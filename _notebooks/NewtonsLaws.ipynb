{
 "cells": [
  {
   "cell_type": "markdown",
   "metadata": {},
   "source": [
    "# \"Newton's Laws \"\n",
    "> \"Resources and Lessons\"\n",
    "\n",
    "- toc:false\n",
    "- branch: master\n",
    "- badges: true\n",
    "- comments: true\n",
    "- hide: true\n",
    "- author: Hetvi Trivedi\n",
    "- categories: [jupyter]"
   ]
  },
  {
   "cell_type": "markdown",
   "metadata": {},
   "source": [
    "# Key Vocabulary\n",
    "\n",
    "| Vocabulary | Definition | \n",
    "| --- | --- | \n",
    "| First Law | An object will remain at rest or in uniform motion in a straight line unless compelled to change its state by the action of an external force. | \n",
    "| Second Law | The acceleration of an object is dependent upon two variables - the net force acting upon the object and the mass of the object. | \n",
    "| Third Law | For every action (force) in nature there is an equal and opposite reaction. | \n",
    "| Center of Mass| A position defined relative to an object or system of objects. It is the average position of all the parts of the system | \n",
    "| Net Force | The vector sum of forces acting on a particle or object.| \n"
   ]
  },
  {
   "cell_type": "markdown",
   "metadata": {},
   "source": [
    "# Code Demonstration of Concept"
   ]
  },
  {
   "cell_type": "code",
   "execution_count": 4,
   "metadata": {
    "vscode": {
     "languageId": "java"
    }
   },
   "outputs": [
    {
     "name": "stdout",
     "output_type": "stream",
     "text": [
      "\n",
      "Newton's First Law of Motion\n",
      "4 cars moving at a constant speed\n",
      "4 cars moving with no external forces\n",
      "                                                                \n",
      "  ______                                                        \n",
      " /|_||_\\`.__                                                   \n",
      "(   _    _ _\\                                                  \n",
      "=`-(_)--(_)-'                                                   \n",
      "=============================================================== \n",
      "                                                                \n",
      "            ______                                                        \n",
      "           /|_||_\\`.__                                                   \n",
      "          (   _    _ _\\                                                  \n",
      "           =`-(_)--(_)-'                                                   \n",
      "=============================================================== \n",
      "                                                                \n",
      "                               ______                                                        \n",
      "                              /|_||_\\`.__                                                   \n",
      "                             (   _    _ _\\                                                  \n",
      "                              =`-(_)--(_)-'                                                   \n",
      "=============================================================== \n",
      "                                                                \n",
      "                                                     ______                                                        \n",
      "                                                   /|_||_\\`.__                                                   \n",
      "                                                   (   _    _ _\\                                                  \n",
      "                                                   =`-(_)--(_)-'                                                   \n",
      "=============================================================== \n",
      "3 cars moving at a constant speed\n",
      "3 cars moving with no external forces\n",
      "                                                                \n",
      "  ______                                                        \n",
      " /|_||_\\`.__                                                   \n",
      "(   _    _ _\\                                                  \n",
      "=`-(_)--(_)-'                                                   \n",
      "=============================================================== \n",
      "                                                                \n",
      "            ______                                                        \n",
      "           /|_||_\\`.__                                                   \n",
      "          (   _    _ _\\                                                  \n",
      "           =`-(_)--(_)-'                                                   \n",
      "=============================================================== \n",
      "                                                                \n",
      "                               ______                                                        \n",
      "                              /|_||_\\`.__                                                   \n",
      "                             (   _    _ _\\                                                  \n",
      "                              =`-(_)--(_)-'                                                   \n",
      "=============================================================== \n",
      "2 cars moving at a constant speed\n",
      "2 cars moving with no external forces\n",
      "                                                                \n",
      "  ______                                                        \n",
      " /|_||_\\`.__                                                   \n",
      "(   _    _ _\\                                                  \n",
      "=`-(_)--(_)-'                                                   \n",
      "=============================================================== \n",
      "                                                                \n",
      "            ______                                                        \n",
      "           /|_||_\\`.__                                                   \n",
      "          (   _    _ _\\                                                  \n",
      "           =`-(_)--(_)-'                                                   \n",
      "=============================================================== \n",
      "1 cars moving at a constant speed\n",
      "1 cars moving with no external forces\n",
      "                                                                \n",
      "  ______                                                        \n",
      " /|_||_\\`.__                                                   \n",
      "(   _    _ _\\                                                  \n",
      "=`-(_)--(_)-'                                                   \n",
      "=============================================================== \n"
     ]
    }
   ],
   "source": [
    "class CarLoop {\n",
    "    String [][] car;\n",
    "\n",
    "    public CarLoop() {\n",
    "        car = new String[][]{\n",
    "           {\n",
    "                \"                                                               \",\n",
    "                \"  ______                                                       \",\n",
    "                \" /|_||_\\\\`.__                                                  \",\n",
    "                \"(   _    _ _\\\\                                                 \",\n",
    "                \"=`-(_)--(_)-'                                                  \",\n",
    "                \"===============================================================\"\n",
    "           },\n",
    "           {\n",
    "                \"                                                               \",\n",
    "                \"            ______                                                       \",\n",
    "                \"           /|_||_\\\\`.__                                                  \",\n",
    "                \"          (   _    _ _\\\\                                                 \",\n",
    "                \"           =`-(_)--(_)-'                                                  \",\n",
    "                \"===============================================================\"        \n",
    "            },\n",
    "            {\n",
    "                \"                                                               \",\n",
    "                \"                               ______                                                       \",\n",
    "                \"                              /|_||_\\\\`.__                                                  \",\n",
    "                \"                             (   _    _ _\\\\                                                 \",\n",
    "                \"                              =`-(_)--(_)-'                                                  \",\n",
    "                \"===============================================================\"           \n",
    "            },\n",
    "            {\n",
    "                \"                                                               \",\n",
    "                \"                                                     ______                                                       \",\n",
    "                \"                                                   /|_||_\\\\`.__                                                  \",\n",
    "                \"                                                   (   _    _ _\\\\                                                 \",\n",
    "                \"                                                   =`-(_)--(_)-'                                                  \",\n",
    "                \"===============================================================\"           \n",
    "            },\n",
    "        };\n",
    "    }\n",
    "\n",
    "    public void printRace() {\n",
    "        System.out.println();\n",
    "        System.out.println(\"Newton's First Law of Motion\");\n",
    "\n",
    "        int carPlace = 4;\n",
    "        for (int i = carPlace; i >= 1; i--)\n",
    "        {\n",
    "\n",
    "            System.out.println(i + \" cars moving at a constant speed\");\n",
    "            System.out.println(i + \" cars moving with no external forces\");\n",
    "\n",
    "            for (int row = 0; row < carPlace; row++) {\n",
    "                for (int col = 0; col < car[row].length; col++) {\n",
    "                    System.out.println(car[row][col] + \" \");\n",
    "\n",
    "                }\n",
    "            }\n",
    "\n",
    "            carPlace -= 1;\n",
    "        }\n",
    "    }\n",
    "\n",
    "    public static void main(String[] args) {\n",
    "        new CarLoop().printRace();\n",
    "    }\n",
    "}\n",
    "\n",
    "CarLoop.main(null);"
   ]
  },
  {
   "cell_type": "markdown",
   "metadata": {},
   "source": [
    "# Lab Resources\n",
    "\n",
    "-[Newton's Second Law](https://docs.google.com/document/d/1iFssmIpxoJD6_J0VVV28z1AHjyO53vKHok2Ir7zTIn8/edit?usp=sharing)\n",
    "\n",
    "-[Frictional Forces](https://docs.google.com/document/d/1NJV8P4t8Lh7_URW0l-rTpOOCWiQJEF2twJJrWJaRa1I/edit?usp=sharing)"
   ]
  },
  {
   "cell_type": "markdown",
   "metadata": {},
   "source": [
    "# [Click here for Calculators]"
   ]
  }
 ],
 "metadata": {
  "kernelspec": {
   "display_name": "Java",
   "language": "java",
   "name": "java"
  },
  "language_info": {
   "codemirror_mode": "java",
   "file_extension": ".jshell",
   "mimetype": "text/x-java-source",
   "name": "Java",
   "pygments_lexer": "java",
   "version": "17.0.4.1+1"
  },
  "orig_nbformat": 4,
  "vscode": {
   "interpreter": {
    "hash": "b0fa6594d8f4cbf19f97940f81e996739fb7646882a419484c72d19e05852a7e"
   }
  }
 },
 "nbformat": 4,
 "nbformat_minor": 2
}

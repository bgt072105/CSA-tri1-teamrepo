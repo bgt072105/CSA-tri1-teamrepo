{
 "cells": [
  {
   "cell_type": "markdown",
   "metadata": {},
   "source": [
    "# \"Kinematics\"\n",
    "> \"Resources and Lessons\"\n",
    "\n",
    "- toc:false\n",
    "- branch: master\n",
    "- badges: true\n",
    "- comments: true\n",
    "- hide: true\n",
    "- author: Hetvi Trivedi, Brian Tang\n",
    "- categories: [jupyter]"
   ]
  },
  {
   "cell_type": "markdown",
   "metadata": {},
   "source": [
    "# Key Vocabulary\n",
    "\n",
    "| Vocabulary | Definition | \n",
    "| --- | --- | \n",
    "| Velocity | The rate at which an object changes it's position | \n",
    "| Acceleration | The rate at which an object's speed is changing | \n",
    "| Displacement | Vector quantity that is an object's overall change in position | \n",
    "| Distance | How far an object has moved; positive or negative | \n",
    "| Vectors | Have both magnitude and direction| \n",
    "| Scalars | Only magnitude (no direction) | \n",
    "| Gravitational Constant | 9.8 m/s^2 | \n",
    "\n",
    "\n",
    "\n",
    "\n",
    "\n"
   ]
  },
  {
   "cell_type": "markdown",
   "metadata": {},
   "source": [
    "# Key Equations\n",
    "![](../images/kinematics.png)"
   ]
  },
  {
   "cell_type": "markdown",
   "metadata": {},
   "source": [
    "# Lab Resources\n",
    "\n",
    "- [Motion in 1D Lab](https://docs.google.com/document/d/1G5cvOHB_3eZGqAZmQ4kzfF_Z_tU9lckY6D8DC3RU3SM/edit?usp=sharing)\n",
    "- [Projectile Motion](https://docs.google.com/document/d/1m1CKRDgzh3C2ivIY-bmgMxJlrK7moY1H389la-U8y-g/edit)"
   ]
  }
 ],
 "metadata": {
  "kernelspec": {
   "display_name": "Java",
   "language": "java",
   "name": "java"
  },
  "language_info": {
   "codemirror_mode": "java",
   "file_extension": ".jshell",
   "mimetype": "text/x-java-source",
   "name": "Java",
   "pygments_lexer": "java",
   "version": "17.0.4.1+1"
  },
  "orig_nbformat": 4,
  "vscode": {
   "interpreter": {
    "hash": "b0fa6594d8f4cbf19f97940f81e996739fb7646882a419484c72d19e05852a7e"
   }
  }
 },
 "nbformat": 4,
 "nbformat_minor": 2
}

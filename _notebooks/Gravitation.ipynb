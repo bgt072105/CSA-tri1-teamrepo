{
 "cells": [
  {
   "cell_type": "markdown",
   "metadata": {},
   "source": [
    "# \"Gravitation\"\n",
    "> \"Resources and Lessons\"\n",
    "\n",
    "- toc:false\n",
    "- branch: master\n",
    "- badges: true\n",
    "- comments: true\n",
    "- hide: true\n",
    "- author: Ellen Xu \n",
    "- categories: [jupyter]"
   ]
  },
  {
   "cell_type": "markdown",
   "metadata": {},
   "source": [
    "# Key Vocabulary\n",
    "\n",
    "| Vocabulary | Definition | \n",
    "| --- | --- | \n",
    "| Universal Law of Gravitation | Force of gravitational attraction between the Earth and other objects is inversely proportional to the distance separating the earth's center from the object's center. | \n",
    "| Centripetal Acceleration | Any object moving in a circle will have an acceleration vector pointed towards the center of the circle. | \n",
    "| Inverse Square Law | Power intensity per unit area from point source. If sun rays strike the surface of a planet at a right angle, varies inversely according to the square of the distance from the source. | \n",
    "| Free Fall | Gravity is the only force acting on an object.| \n"
   ]
  },
  {
   "cell_type": "markdown",
   "metadata": {},
   "source": [
    "# Key Equation\n",
    "![](../images/gravitation.png)"
   ]
  },
  {
   "cell_type": "markdown",
   "metadata": {},
   "source": [
    "# Lab Resources\n",
    "- [Kepler's Laws](https://docs.google.com/document/d/15KXwTdVYJjgyGCRVqXzoNGY7lZ8bzAD9lxUK--HKvuU/edit?usp=sharing)\n",
    "\n",
    "- [My Solar System](https://docs.google.com/document/d/1dmdowZPBq8cD8lZCqXTTcYG7KmwyvPoimgsGTa1U9XY/edit?usp=sharing)"
   ]
  },
  {
   "cell_type": "markdown",
   "metadata": {},
   "source": [
    "# [Click for Calculators](https://bgt072105.github.io/CSA-tri1-teamrepo/gravitationcalculator/)"
   ]
  }
 ],
 "metadata": {
  "kernelspec": {
   "display_name": "Java",
   "language": "java",
   "name": "java"
  },
  "language_info": {
   "name": "java"
  },
  "orig_nbformat": 4
 },
 "nbformat": 4,
 "nbformat_minor": 2
}

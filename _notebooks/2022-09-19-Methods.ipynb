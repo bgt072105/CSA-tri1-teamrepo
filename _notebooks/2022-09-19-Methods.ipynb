{
 "cells": [
  {
   "cell_type": "markdown",
   "metadata": {},
   "source": [
    "# \"Methods in Java\"\n",
    "> \"Our group presentation on methods\"\n",
    "\n",
    "- toc:true\n",
    "- branch: master\n",
    "- badges: true\n",
    "- comments: true\n",
    "- author: Hetvi Trivedi, Brian Tang\n",
    "- categories: [jupyter]"
   ]
  },
  {
   "cell_type": "markdown",
   "metadata": {},
   "source": [
    "# What is a Method?\n",
    "- Function or sub-code that is associated with a class in object-oriented programming\n",
    "- Can contain a set of codes that performs an action\n",
    "- It can also take an input and return an output based on the user"
   ]
  },
  {
   "cell_type": "markdown",
   "metadata": {},
   "source": [
    "# Creating a Method\n",
    "- A method is created within a class\n",
    "- It is defined with the name, followed by ()\n",
    "- An example of a Java pre-defined method is System.out.println()\n"
   ]
  },
  {
   "cell_type": "markdown",
   "metadata": {},
   "source": [
    "# Example Code"
   ]
  },
  {
   "cell_type": "code",
   "execution_count": 3,
   "metadata": {},
   "outputs": [],
   "source": [
    "public class Main {\n",
    "    static void ExampleMethod(){ // ExampleMethod is the name of the method; static means that the method belongs to the Main class and not an object\n",
    "        System.out.println(\"Hi!\");\n",
    "    }\n",
    "}"
   ]
  },
  {
   "cell_type": "markdown",
   "metadata": {},
   "source": [
    "# Calling a Method\n",
    "- With Java, you can call a method by writing the method's name and then having (); after it\n"
   ]
  },
  {
   "cell_type": "markdown",
   "metadata": {},
   "source": [
    "# Example Code"
   ]
  },
  {
   "cell_type": "code",
   "execution_count": 1,
   "metadata": {},
   "outputs": [],
   "source": [
    "public class Main {\n",
    "    static void ExampleMethod() {\n",
    "      System.out.println(\"Hello AP CSA!\");\n",
    "    }\n",
    "  \n",
    "    public static void main(String[] args) {\n",
    "      ExampleMethod();\n",
    "    }\n",
    "  }\n",
    "  \n",
    "  // Outputs \"I just got executed!\""
   ]
  },
  {
   "cell_type": "markdown",
   "metadata": {},
   "source": [
    "# Hack 1\n",
    "\n",
    "- Fill in the missing code \n"
   ]
  },
  {
   "cell_type": "code",
   "execution_count": null,
   "metadata": {},
   "outputs": [],
   "source": [
    "static void myMethod() {\n",
    "    System.out.println(\"Code is executed!\");\n",
    "}\n",
    "public static void main(String[] args) {\n",
    "    __________________\n",
    "}\n"
   ]
  },
  {
   "cell_type": "markdown",
   "metadata": {},
   "source": [
    "# Hack 2\n",
    "- Describe what the method does"
   ]
  },
  {
   "cell_type": "code",
   "execution_count": null,
   "metadata": {},
   "outputs": [],
   "source": [
    "public string myMethod(String s,inti){\n",
    "    String r =\"\";\n",
    "    for(int j=0; j< s.length(); j++){\n",
    "        r+=(char)(s.charAt(j)+i);\n",
    "    }\n",
    "    return r;\n",
    "}"
   ]
  },
  {
   "cell_type": "markdown",
   "metadata": {},
   "source": [
    "# Additional Resources\n",
    "\n",
    "Videos:\n",
    "- https://www.youtube.com/watch?v=_rsKeFaGx48&ab_channel=Udacity\n",
    "- https://www.youtube.com/watch?v=67ci2FvaY6o&ab_channel=DonWoodlock\n",
    "\n",
    "More Practice Questions:\n",
    "- https://www.khanacademy.org/computing/computer-programming/programming"
   ]
  }
 ],
 "metadata": {
  "kernelspec": {
   "display_name": "Java",
   "language": "java",
   "name": "java"
  },
  "language_info": {
   "codemirror_mode": "java",
   "file_extension": ".jshell",
   "mimetype": "text/x-java-source",
   "name": "java",
   "pygments_lexer": "java",
   "version": "17.0.4.1+1"
  },
  "orig_nbformat": 4
 },
 "nbformat": 4,
 "nbformat_minor": 2
}

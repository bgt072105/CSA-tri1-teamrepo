{
 "cells": [
  {
   "cell_type": "markdown",
   "metadata": {},
   "source": [
    "# \"Methods in Java\"\n",
    "> \"Our group presentation on methods\"\n",
    "\n",
    "- toc:false\n",
    "- branch: master\n",
    "- badges: true\n",
    "- comments: true\n",
    "- hide: true\n",
    "- author: Hetvi Trivedi, Brian Tang\n",
    "- categories: [jupyter]"
   ]
  },
  {
   "cell_type": "markdown",
   "metadata": {},
   "source": [
    "# What is a Method?\n",
    "- Function or sub-code that is associated with a class in object-oriented programming\n",
    "- Can contain a set of codes that performs an action\n",
    "- It can also take an input and return an output based on the user\n",
    "- Runs only when called"
   ]
  },
  {
   "cell_type": "markdown",
   "metadata": {},
   "source": [
    "# Creating a Method\n",
    "- A method is created within a class\n",
    "- It is defined with the name, followed by ()\n",
    "- An example of a Java pre-defined method is System.out.println()\n"
   ]
  },
  {
   "cell_type": "markdown",
   "metadata": {},
   "source": [
    "# Calling a Method\n",
    "- With Java, you can call a method by writing the method's name and then having (); after it\n"
   ]
  },
  {
   "cell_type": "markdown",
   "metadata": {},
   "source": [
    "# Example Code"
   ]
  },
  {
   "cell_type": "code",
   "execution_count": 7,
   "metadata": {},
   "outputs": [
    {
     "name": "stdout",
     "output_type": "stream",
     "text": [
      "Hi Class! How are you?\n"
     ]
    }
   ],
   "source": [
    "public class Example {\n",
    "    \n",
    "    public static void hello () {\n",
    "        \n",
    "        System.out.println(\"Hi Class! How are you?\");\n",
    "    } // here, we defined the method called \"hello,\" that we can later refer to and execute the code\n",
    "\n",
    "    public static void main(String[] args) { \n",
    "        Example myExample = new Example();\n",
    "        myExample.hello();\n",
    "    } // we called the method through the .hello();\n",
    "}\n",
    "\n",
    "Example.main(null);"
   ]
  },
  {
   "cell_type": "markdown",
   "metadata": {},
   "source": [
    "# Hack 1\n",
    "\n",
    "- Fill in the missing code \n"
   ]
  },
  {
   "cell_type": "code",
   "execution_count": null,
   "metadata": {},
   "outputs": [],
   "source": [
    "static void myMethod() {\n",
    "    System.out.println(\"Code is executed!\");\n",
    "}\n",
    "public static void main(String[] args) {\n",
    "    __________________\n",
    "}\n"
   ]
  },
  {
   "cell_type": "markdown",
   "metadata": {},
   "source": [
    "# Hack 2\n",
    "- Describe what the method does"
   ]
  },
  {
   "cell_type": "code",
   "execution_count": null,
   "metadata": {},
   "outputs": [],
   "source": [
    "class Main {\n",
    "\n",
    "    // create a method\n",
    "    public int addNumbers(int a, int b) {\n",
    "      int sum = a + b;\n",
    "      // return value\n",
    "      return sum;\n",
    "    }\n",
    "  \n",
    "    public static void main(String[] args) {\n",
    "      \n",
    "      int num1 = 25;\n",
    "      int num2 = 15;\n",
    "  \n",
    "      // create an object of Main\n",
    "      Main obj = new Main();\n",
    "      // calling method\n",
    "      int result = obj.addNumbers(num1, num2);\n",
    "      System.out.println(\"Sum is: \" + result);\n",
    "    }\n",
    "  }"
   ]
  },
  {
   "cell_type": "markdown",
   "metadata": {},
   "source": [
    "# Answers to the Hacks\n",
    "1. \"myMethod()\" \n",
    "2. The code created a method called addNumbers() that takes two parameters, a and b. The method is called and then a sum is outputted. \n",
    "\n"
   ]
  },
  {
   "cell_type": "markdown",
   "metadata": {},
   "source": [
    "# Additional Resources\n",
    "\n",
    "Videos:\n",
    "- https://www.youtube.com/watch?v=_rsKeFaGx48&ab_channel=Udacity\n",
    "- https://www.youtube.com/watch?v=67ci2FvaY6o&ab_channel=DonWoodlock\n",
    "\n",
    "More Practice Questions:\n",
    "- https://www.khanacademy.org/computing/computer-programming/programming"
   ]
  }
 ],
 "metadata": {
  "kernelspec": {
   "display_name": "Java",
   "language": "java",
   "name": "java"
  },
  "language_info": {
   "codemirror_mode": "java",
   "file_extension": ".jshell",
   "mimetype": "text/x-java-source",
   "name": "java",
   "pygments_lexer": "java",
   "version": "17.0.4.1+1"
  },
  "orig_nbformat": 4
 },
 "nbformat": 4,
 "nbformat_minor": 2
}

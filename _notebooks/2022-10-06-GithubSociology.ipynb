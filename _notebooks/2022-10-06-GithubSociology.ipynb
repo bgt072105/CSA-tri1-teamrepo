{
 "cells": [
  {
   "cell_type": "markdown",
   "metadata": {},
   "source": [
    "# \"Github and Git Sociology\"\n",
    "> \"Social computing tools\"\n",
    "\n",
    "- toc:true\n",
    "- branch: master\n",
    "- badges: true\n",
    "- comments: true\n",
    "- author: Hetvi Trivedi, Brian Tang, Jazair Tallman, Ellen Xu \n",
    "- categories: [jupyter]"
   ]
  },
  {
   "cell_type": "markdown",
   "metadata": {},
   "source": [
    "# Hacks\n",
    "\n",
    "1. What is the main repository for your project?\n",
    "\n",
    "Our main repository is created on Github that we all have access to through cloning the repository. The link is here: https://github.com/bgt072105/CSA-tri1-teamrepo\n",
    "\n",
    "2. Did you create a .gitignore to avoid committing files that ‘don’t belong in version control?\n",
    "\n",
    "Yes we did create this file. This configuration file is useful for us to not push files that we don't want in our repository. Below is a screenshot of our file\n"
   ]
  },
  {
   "cell_type": "markdown",
   "metadata": {},
   "source": [
    "![](../images/gitignore.png)"
   ]
  },
  {
   "cell_type": "markdown",
   "metadata": {},
   "source": [
    "3. Have you established Issues as part of your Development process?\n",
    "\n",
    "Yes, we establish issues to organize and assign tasks to our group members. These issues allow us to check off tasks that we have finished and also see our group members' progress.\n",
    "\n",
    "Check out our issues page here: https://github.com/bgt072105/CSA-tri1-teamrepo/issues\n",
    "\n",
    "4. Have you considered making Pull Requests to track development?\n",
    "\n",
    "We are going to use pull requests as we start working on code development of our website. For example, Brian is backend developer. He will write the code and establish a pull request that Ellen, as the frontend developer, can then either accept or reject through a pull request.\n",
    "\n",
    "5. Have you considered forks or branching techniques with pull requests?\n",
    "\n",
    "Yes we will do this once we start the codes\n",
    "\n",
    "6. Are you managing Issues on a Project Board/Scrum Board like Kanban?\n",
    "\n",
    "Yes we created a scrum board that allows us to drag accomplished tasks through issues and also assign new issues to people. "
   ]
  }
 ],
 "metadata": {
  "kernelspec": {
   "display_name": "Java",
   "language": "java",
   "name": "java"
  },
  "language_info": {
   "name": "java"
  },
  "orig_nbformat": 4
 },
 "nbformat": 4,
 "nbformat_minor": 2
}

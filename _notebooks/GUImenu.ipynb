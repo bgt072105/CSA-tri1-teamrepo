{
 "cells": [
  {
   "cell_type": "markdown",
   "metadata": {},
   "source": [
    "# GUI Notebook\n",
    "> Brian and Hetvi created a GUI console for different physics and math operations using classes, objects, statics, and more.\n",
    "\n"
   ]
  },
  {
   "cell_type": "markdown",
   "metadata": {},
   "source": [
    "# Brian's Part\n",
    "To help employ this GUI console, Brian was able to set up the code for it by figuring out how to get the pop-up tab to work. Then he also figured out the \"else if\" statements that allowed us to put the calculations we wanted on each respective tab. In addition, he wrote the code for \"Mean and Media\" using integers and doubles (primitive data types)"
   ]
  },
  {
   "cell_type": "markdown",
   "metadata": {},
   "source": [
    "# Hetvi's Part\n",
    "Hetvi's collaboration to this console was resetting the tabs to match the different physics and math operations we wanted to showcase. She also was able to add a potential energy and fahrenheit to celsius calculator that employed primitive data types like integers, doubles, and statics. "
   ]
  },
  {
   "cell_type": "markdown",
   "metadata": {},
   "source": [
    "# GUI Console"
   ]
  },
  {
   "cell_type": "code",
   "execution_count": 1,
   "metadata": {
    "vscode": {
     "languageId": "java"
    }
   },
   "outputs": [
    {
     "ename": "",
     "evalue": "",
     "output_type": "error",
     "traceback": [
      "The Kernel crashed while executing code in the the current cell or a previous cell. Please review the code in the cell(s) to identify a possible cause of the failure. Click <a href='https://aka.ms/vscodeJupyterKernelCrash'>here</a> for more info. View Jupyter <a href='command:jupyter.viewOutput'>log</a> for further details."
     ]
    }
   ],
   "source": [
    "import java.awt.*;\n",
    "import java.awt.event.*;\n",
    "import javax.swing.*;\n",
    "import java.util.Timer;\n",
    "import java.util.TimerTask;\n",
    "// Graphical-User-Interface for Desktop in Java using Java Swing. \n",
    "public class MenuJFrame extends JFrame implements ActionListener {\n",
    "    private JFrame frame;\n",
    "    private JMenuBar menubar;\n",
    "    private JMenu menu;\n",
    "    private JLabel message = new JLabel(\"Click on Menu to select an action.\");\n",
    "    public final String[] MENUS = { // 1D Array of Menu Choices\n",
    "        \"Mean and Median\", \"Fahrenheit to Celsius Calculator\", \"Potential Energy\",  \n",
    "    };\n",
    "    // Statics to assist with timer and messaging, single copy (no instance)\n",
    "    private\tstatic int delay = 20;\n",
    "    private\tstatic int step = 1;\n",
    "    private static String hashes = \"\";\n",
    "\n",
    "    // Constructor enables the Frame instance, the object \"this.frame\"\n",
    "    public MenuJFrame(String title) {\n",
    "\t    // Initializing Key Objects\n",
    "        frame = new JFrame(title);\n",
    "\t    menubar = new JMenuBar();\n",
    "\t    menu = new JMenu(\"Menu\");\n",
    "\n",
    "        // Initializing Menu objects and adding actions\n",
    "        for (String mx : MENUS) {\n",
    "            JMenuItem m = new JMenuItem(mx);\n",
    "            m.addActionListener(this);\n",
    "            menu.add(m); \n",
    "        }\n",
    "\n",
    "        // Adding / Connecting Objects\n",
    "        menubar.add(menu);\n",
    "        frame.setJMenuBar(menubar);\n",
    "        frame.add(message);\n",
    "\n",
    "        // Sets JFrame close operation to Class variable JFrame.EXIT_ON_CLOSE\n",
    "        frame.setDefaultCloseOperation(JFrame.EXIT_ON_CLOSE);\n",
    "        \n",
    "        // set the size of window based on objects\n",
    "        frame.setSize(300,200);\n",
    "\n",
    "        // makes the frame object visible according to properties previously set\n",
    "        frame.setVisible(true);  // flow of control shifts to frame object\n",
    "    }\n",
    "\n",
    "    // event from user selecting a menu option\n",
    "    public void actionPerformed(ActionEvent e) {\n",
    "        // local variable to ActinEvent\n",
    "        String selection = e.getActionCommand();  // menu selection\n",
    "        String msg; // local variable to create response from action\n",
    "        final String[] COLORS = {\"Red\", \"Green\", \"Blue\"};  // add more colors here\n",
    " \t    final String start_msg = \"<html>\";  // html building\n",
    "       \tfinal String end_msg = \"</html>\";\n",
    "       \tfinal String hash = \"#\";\n",
    "\n",
    "        // run code based on the menuItem that was selected\n",
    "        if ( selection.equals(MENUS[0]) ) { \n",
    "            action1(start_msg, end_msg);\n",
    "        } else if ( selection.equals(MENUS[1]) ) {\n",
    "            int celsius1 = 89;\n",
    "            double fahrenheit1 = (celsius1*1.8)+32;\n",
    "            msg = start_msg;\n",
    "            msg += \"The temperature in Celsius is \"+ celsius1 +\"<br>This temperature was converted to Fahrenheit and is \"+ fahrenheit1 +\"\"; \n",
    "            msg += end_msg;\n",
    "            message.setText(msg);\n",
    "        } else {\n",
    "            int mass1 = 67;\n",
    "            int gravity1 = 10;\n",
    "            int height1 = 3;\n",
    "            double potentialenergy = mass1*gravity1*height1;\n",
    "            msg = start_msg;\n",
    "            msg += \"The mass is \" + mass1+\".<br>The gravity constant is \"+ gravity1 +\".<br>The height is \" +height1+\".<br>The potential energy calculated by muliplying all these values is \"+ potentialenergy +\"\"; \n",
    "            msg+= end_msg;\n",
    "            message.setText(msg);\n",
    "        }\n",
    "    }\n",
    "\n",
    "    public void action1(String start_msg, String end_msg) {\n",
    "        String msg;\n",
    "        int data1 = 1;\n",
    "        int data2 = 2;\n",
    "        int data3 = 3;\n",
    "        double mean = (double) (data1 + data2 + data3) / 3;\n",
    "        int median = data2;\n",
    "        msg = start_msg;\n",
    "        msg += \"The data is \" + data1 + \", \" + data2 + \", \" + data3 + \".<br>The mean is \" + mean + \". The median is \" + median + \".\";\n",
    "        msg += end_msg;\n",
    "        message.setText(msg);\n",
    "    }\n",
    "\n",
    "    // Driver turn over control the GUI\n",
    "    public static void main(String[] args) {\n",
    "        // Activates an instance of MenuJFrame class, which makes a JFrame object\n",
    "        new MenuJFrame(\"Menu\");\n",
    "    }\n",
    "}\n",
    "MenuJFrame.main(null);"
   ]
  }
 ],
 "metadata": {
  "kernelspec": {
   "display_name": "Java",
   "language": "java",
   "name": "java"
  },
  "language_info": {
   "codemirror_mode": "java",
   "file_extension": ".jshell",
   "mimetype": "text/x-java-source",
   "name": "Java",
   "pygments_lexer": "java",
   "version": "17.0.4.1+1"
  },
  "orig_nbformat": 4,
  "vscode": {
   "interpreter": {
    "hash": "9183a533545d0b65b81c3395c708e1f9395188a8f9d11da77e00daa9d2dfddea"
   }
  }
 },
 "nbformat": 4,
 "nbformat_minor": 2
}

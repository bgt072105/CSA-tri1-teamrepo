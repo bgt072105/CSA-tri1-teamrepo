{
 "cells": [
  {
   "cell_type": "markdown",
   "metadata": {},
   "source": [
    "# \"PBL Project\"\n",
    "> \"Our group idea on our PBL Project\"\n",
    "\n",
    "- toc:true\n",
    "- branch: master\n",
    "- badges: true\n",
    "- comments: true\n",
    "- author: Hetvi Trivedi, Brian Tang, Jazair Tallman, Ellen Xu \n",
    "- categories: [jupyter]"
   ]
  },
  {
   "cell_type": "markdown",
   "metadata": {},
   "source": [
    "# PBL Idea\n",
    "\n",
    "We want to create an interactive website based on the AP Physics Mechanics and Electricity and Magnetism curriculum. We envision our website to have spaces for user-friendly calculators, videos that we can create and input, and also interactive simulations similar to Colorado's PHET environment. "
   ]
  },
  {
   "cell_type": "markdown",
   "metadata": {},
   "source": [
    "# Brain Write\n",
    "- Calculators for electric force, potential energy, torque, etc. \n",
    "- Make videos with us teaching the concepts to enhance our own learning\n",
    "- Incorporate from Crash White and other physics platforms that aren't user friendly"
   ]
  },
  {
   "cell_type": "markdown",
   "metadata": {},
   "source": [
    "# Wire Frame"
   ]
  },
  {
   "cell_type": "markdown",
   "metadata": {},
   "source": [
    "![This is an image](../images/Wireframes.png)"
   ]
  },
  {
   "cell_type": "markdown",
   "metadata": {},
   "source": [
    "![This is an image](../images/Page2.png)\n"
   ]
  }
 ],
 "metadata": {
  "kernelspec": {
   "display_name": "Java",
   "language": "java",
   "name": "java"
  },
  "language_info": {
   "name": "java"
  },
  "orig_nbformat": 4
 },
 "nbformat": 4,
 "nbformat_minor": 2
}

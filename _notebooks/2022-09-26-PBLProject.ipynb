{
 "cells": [
  {
   "cell_type": "markdown",
   "metadata": {},
   "source": [
    "# \"PBL Project Outline\"\n",
    "> \"This is a compilation of our group's project idea\"\n",
    "\n",
    "- toc:true\n",
    "- branch: master\n",
    "- badges: true\n",
    "- comments: true\n",
    "- author: Hetvi Trivedi, Brian Tang, Ellen Xu, Jazair Tallman\n",
    "- categories: [jupyter]"
   ]
  },
  {
   "cell_type": "markdown",
   "metadata": {},
   "source": [
    "# Team JEBH PBL Idea\n",
    "Since most of us have taken AP Physics C, we wanted to create an interactive website for us to refer back to. We hope to incorporate different equation calculators, practice problems, and websites that will assist us throughout the year and on the AP exam, while also showing our CS knowledge. "
   ]
  },
  {
   "cell_type": "markdown",
   "metadata": {},
   "source": [
    "# Websites and Calculators we want to incorporate\n",
    "- CrashWhite: https://www.crashwhite.com/apphysics/\n",
    "- Our individual physics calculators from console/GUI assignments"
   ]
  },
  {
   "cell_type": "markdown",
   "metadata": {},
   "source": [
    "# Team Brainstorm\n",
    "- Electric force calculator\n",
    "- Potential energy calculator\n",
    "- Page per unit of AP curriculum\n"
   ]
  },
  {
   "cell_type": "markdown",
   "metadata": {},
   "source": [
    "# Wireframes Ideas"
   ]
 },
  {
   "cell_type": "markdown",
   "metadata": {},
   "source": [
    "![Control structure Java diagram](https://user-images.githubusercontent.com/56745453/191566477-dc199387-3fb9-42b6-b701-397fe6be350f.png)"
   ]
  },
  {
   "cell_type": "markdown",
   "metadata": {},
   "source": [
    "![](https://github.com/bgt072105/CSA-tri1-teamrepo/blob/master/images/Wireframes.png)"
   ]
  },
  {
   "cell_type": "markdown",
   "metadata": {},
   "source": [
    "![](https://github.com/bgt072105/CSA-tri1-teamrepo/blob/master/images/Wireframes%20(1).png)"
   ]
  }
 ],
 "metadata": {
  "kernelspec": {
   "display_name": "Java",
   "language": "java",
   "name": "java"
  },
  "language_info": {
   "name": "java",
   "version": "3.10.6"
  },
  "orig_nbformat": 4,
  "vscode": {
   "interpreter": {
    "hash": "b0fa6594d8f4cbf19f97940f81e996739fb7646882a419484c72d19e05852a7e"
   }
  }
 },
 "nbformat": 4,
 "nbformat_minor": 2
}

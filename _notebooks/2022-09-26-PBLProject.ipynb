{
 "cells": [
  {
   "cell_type": "markdown",
   "metadata": {},
   "source": [
    "# \"PBL Project\"\n",
    "> \"Our group idea on our PBL Project\"\n",
    "\n",
    "- toc:true\n",
    "- branch: master\n",
    "- badges: true\n",
    "- comments: true\n",
    "- author: Hetvi Trivedi, Brian Tang, Jazair Tallman, Ellen Xu \n",
    "- categories: [jupyter]"
   ]
  },
  {
   "cell_type": "markdown",
   "metadata": {},
   "source": [
    "# PBL Idea\n",
    "\n",
    "We want to create an interactive website based on the AP Physics Mechanics and Electricity and Magnetism curriculum. We envision our website to have spaces for user-friendly calculators, videos that we can create and input, and also interactive simulations similar to Colorado's PHET environment. "
   ]
  },
  {
   "cell_type": "markdown",
   "metadata": {},
   "source": [
    "# Brain Write\n",
    "- Calculators for electric force, potential energy, torque, etc. \n",
    "\n",
    "- Make videos with us teaching the concepts to enhance our own learning\n",
    "\n",
    "- Incorporate learnings from Crash White (a Physics Page) and other physics platforms that aren't user friendly\n",
    "\n",
    "- Could talk to Mr. Liao and Mr. Millman to hear more suggestions on what to include\n",
    "\n",
    "- Include labs and write ups \n",
    "\n",
    "- Reasons why we want to do this project:   \n",
    "    - We have taken AP Physics and have learned to navigate through the course ourselves because of the lack of resources present\n",
    "    - We want to help other students have an easier time learning the challenging class material \n",
    "    - Although there are resources on Google to learn Physics, it's easier to have a user-friendly platform with resources all easily accessible for students \n",
    "    - Useful for self teaching \n"
   ]
  },
  {
   "cell_type": "markdown",
   "metadata": {},
   "source": [
    "# Wire Frame"
   ]
  },
  {
   "cell_type": "markdown",
   "metadata": {},
   "source": [
    "![](../images/Home.png)"
   ]
  },
  {
   "cell_type": "markdown",
   "metadata": {},
   "source": [
    "![](../images/unitspage.png)"
   ]
  },
  {
   "cell_type": "markdown",
   "metadata": {},
   "source": [
    "![](../images/calculator.png)"
   ]
  }
 ],
 "metadata": {
  "kernelspec": {
   "display_name": "Java",
   "language": "java",
   "name": "java"
  },
  "language_info": {
   "name": "java"
  },
  "orig_nbformat": 4
 },
 "nbformat": 4,
 "nbformat_minor": 2
}

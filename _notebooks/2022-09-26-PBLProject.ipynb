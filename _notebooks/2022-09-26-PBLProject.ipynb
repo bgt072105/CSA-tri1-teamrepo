{
 "cells": [
  {
   "cell_type": "markdown",
   "metadata": {},
   "source": [
    "# \"PBL Project\"\n",
    "> \"Our group presentation on methods\"\n",
    "\n",
    "- toc:true\n",
    "- branch: master\n",
    "- badges: true\n",
    "- comments: true\n",
    "- author: Hetvi Trivedi, Brian Tang\n",
    "- categories: [jupyter]"
   ]
  },
  {
   "cell_type": "markdown",
   "metadata": {},
   "source": [
    "![This is an image](https://github.com/bgt072105/CSA-tri1-teamrepo/blob/2a537484b80ba5dcc8df42d00753c18856aa5815/images/Wireframes.png)"
   ]
  }
 ],
 "metadata": {
  "kernelspec": {
   "display_name": "Java",
   "language": "java",
   "name": "java"
  },
  "language_info": {
   "name": "java"
  },
  "orig_nbformat": 4
 },
 "nbformat": 4,
 "nbformat_minor": 2
}
